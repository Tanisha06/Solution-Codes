{
  "nbformat": 4,
  "nbformat_minor": 0,
  "metadata": {
    "colab": {
      "name": "question3",
      "provenance": [],
      "collapsed_sections": []
    },
    "kernelspec": {
      "name": "python3",
      "display_name": "Python 3"
    }
  },
  "cells": [
    {
      "cell_type": "code",
      "metadata": {
        "id": "xDi4X1hOLxEl",
        "colab_type": "code",
        "colab": {}
      },
      "source": [
        "Given a word, you need to judge whether the usage of capitals in it is right or not.\n",
        "\n",
        "We define the usage of capitals in a word to be right when one of the following cases holds:\n",
        "\n",
        "All letters in this word are capitals, like \"USA\".\n",
        "All letters in this word are not capitals, like \"leetcode\".\n",
        "Only the first letter in this word is capital, like \"Google\".\n",
        "Otherwise, we define that this word doesn't use capitals in a right way.\n",
        " \n",
        "\n",
        "Example 1:\n",
        "\n",
        "Input: \"USA\"\n",
        "Output: True\n",
        " \n",
        "\n",
        "Example 2:\n",
        "\n",
        "Input: \"FlaG\"\n",
        "Output: False\n",
        " \n",
        "\n",
        "Note: The input will be a non-empty word consisting of uppercase and lowercase latin letters.\n",
        "\n"
      ],
      "execution_count": null,
      "outputs": []
    },
    {
      "cell_type": "code",
      "metadata": {
        "id": "ctXNwAwfMBVB",
        "colab_type": "code",
        "colab": {
          "base_uri": "https://localhost:8080/",
          "height": 85
        },
        "outputId": "fa249f1c-e5d8-4de0-d5b7-53fe87b97e9e"
      },
      "source": [
        "class Solution {\n",
        "public:\n",
        "    bool detectCapitalUse(string word) {\n",
        "        int i=0;\n",
        "        while(word[i])\n",
        "        {\n",
        "            i++;\n",
        "        }    \n",
        "        if(word[0]>=65 && word[0]<=90)\n",
        "           {\n",
        "              if(word[1]>=65 && word[1]<=90) \n",
        "              {\n",
        "              for(int j=2;j<i;j++)\n",
        "              {\n",
        "                  if(word[j]<65 || word[j]>90)\n",
        "                  {    return false;}\n",
        "                  cout<<1;\n",
        "                    if(word[2]>90)      cout<<word[2];\n",
        "\n",
        "              }\n",
        "              }\n",
        "              else\n",
        "              {\n",
        "              for(int j=1;j<=i;j++)\n",
        "              {\n",
        "                  if(word[j]>=65 && word[j]<=90) return false;\n",
        "              }\n",
        "              }\n",
        "           }  \n",
        "              else\n",
        "              {\n",
        "              for(int j=0;j<i;j++)\n",
        "              {\n",
        "                  if(word[j]>=65 && word[j]<=90) return false;\n",
        "              }\n",
        "              \n",
        "              \n",
        "            \n",
        "           }   \n",
        "            \n",
        "         \n",
        "       \n",
        "        return true;\n",
        "    }\n",
        "};"
      ],
      "execution_count": null,
      "outputs": [
        {
          "output_type": "stream",
          "text": [
            "  name  y   z\n",
            "0   ad  9  11\n",
            "1   gr  3  11\n",
            "2   ty  2   9\n"
          ],
          "name": "stdout"
        }
      ]
    }
  ]
}
