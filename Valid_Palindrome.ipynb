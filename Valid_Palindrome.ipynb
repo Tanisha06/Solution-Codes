{
  "nbformat": 4,
  "nbformat_minor": 0,
  "metadata": {
    "colab": {
      "name": "Valid Palindrome",
      "provenance": [],
      "collapsed_sections": [],
      "authorship_tag": "ABX9TyNxJun0XpaGPClI5EPvsSkV",
      "include_colab_link": true
    },
    "kernelspec": {
      "name": "python3",
      "display_name": "Python 3"
    }
  },
  "cells": [
    {
      "cell_type": "markdown",
      "metadata": {
        "id": "view-in-github",
        "colab_type": "text"
      },
      "source": [
        "<a href=\"https://colab.research.google.com/github/shivamsouravjha/Solution-Codes/blob/master/Valid_Palindrome.ipynb\" target=\"_parent\"><img src=\"https://colab.research.google.com/assets/colab-badge.svg\" alt=\"Open In Colab\"/></a>"
      ]
    },
    {
      "cell_type": "code",
      "metadata": {
        "id": "xDi4X1hOLxEl",
        "colab_type": "code",
        "colab": {}
      },
      "source": [
        "Given a string, determine if it is a palindrome, considering only alphanumeric characters and ignoring cases.\n",
        "\n",
        "Note: For the purpose of this problem, we define empty string as valid palindrome.\n",
        "Example 1:\n",
        "\n",
        "Input: \"A man, a plan, a canal: Panama\"\n",
        "Output: true\n",
        "Example 2:\n",
        "\n",
        "Input: \"race a car\"\n",
        "Output: false\n",
        " \n",
        "\n",
        "Constraints:\n",
        "\n",
        "s consists only of printable ASCII characters."
      ],
      "execution_count": null,
      "outputs": []
    },
    {
      "cell_type": "code",
      "metadata": {
        "id": "8-6XMiekptap",
        "colab_type": "code",
        "colab": {}
      },
      "source": [
        "class Solution {\n",
        "public:\n",
        "    bool isPalindrome(string s) {\n",
        "       int count=0;\n",
        "        vector <char> m;\n",
        "        for(int i=0;i<s.length();i++)\n",
        "       {\n",
        "           if((s[i]!=' ' )&&(s[i]!= ':')&& (s[i]!= ',') && (s[i]!= '.'))\n",
        "           {\n",
        "               if(((s[i]>=65 && s[i]<=90)||(s[i]>=97 && s[i]<=122 )||isdigit(s[i])))\n",
        "               s[count++]=s[i];\n",
        "               \n",
        "           }\n",
        "            \n",
        "       }\n",
        "        cout<<count;\n",
        "        if(count==1)return true;\n",
        "        for(int i=0;i<count;i++)\n",
        "        {\n",
        "            if(s[i]>=65 && s[i]<=90)\n",
        "            {\n",
        "                s[i]+=32;\n",
        "            }\n",
        "        }\n",
        "        if(count==2)\n",
        "        {\n",
        "            if(s[0]==s[1])return true;\n",
        "            else return false;\n",
        "        }\n",
        "\n",
        "        for(int i=0;i<count/2;i++)\n",
        "        {\n",
        "            if(s[i]!=s[count-i -1 ])\n",
        "            {\n",
        "                return false;\n",
        "            }\n",
        "        }\n",
        "\n",
        "        return true;\n",
        "    }\n",
        "};"
      ],
      "execution_count": null,
      "outputs": []
    }
  ]
}