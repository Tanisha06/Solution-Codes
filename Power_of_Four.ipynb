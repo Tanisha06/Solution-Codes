{
  "nbformat": 4,
  "nbformat_minor": 0,
  "metadata": {
    "colab": {
      "name": "Power of Four.ipynb",
      "provenance": [],
      "authorship_tag": "ABX9TyMK3CC9vAEwi+lODfRzBpsG",
      "include_colab_link": true
    },
    "kernelspec": {
      "name": "python3",
      "display_name": "Python 3"
    }
  },
  "cells": [
    {
      "cell_type": "markdown",
      "metadata": {
        "id": "view-in-github",
        "colab_type": "text"
      },
      "source": [
        "<a href=\"https://colab.research.google.com/github/shivamsouravjha/Solution-Codes/blob/master/Power_of_Four.ipynb\" target=\"_parent\"><img src=\"https://colab.research.google.com/assets/colab-badge.svg\" alt=\"Open In Colab\"/></a>"
      ]
    },
    {
      "cell_type": "code",
      "metadata": {
        "id": "NuI2q_Yy9Bo9",
        "colab_type": "code",
        "colab": {}
      },
      "source": [
        "class Solution {\n",
        "public:\n",
        "    bool isPowerOfFour(int num) {\n",
        "        if(num<=0)return false;\n",
        "        \n",
        "        double m= log10(num)/log10(4);\n",
        "        int n = int(m);\n",
        "        if(m==n)return true;\n",
        "        return false;\n",
        "    }\n",
        "};"
      ],
      "execution_count": null,
      "outputs": []
    }
  ]
}